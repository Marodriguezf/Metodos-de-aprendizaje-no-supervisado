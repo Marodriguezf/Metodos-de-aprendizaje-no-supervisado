{
  "nbformat": 4,
  "nbformat_minor": 0,
  "metadata": {
    "colab": {
      "provenance": []
    },
    "kernelspec": {
      "name": "python3",
      "display_name": "Python 3"
    },
    "language_info": {
      "name": "python"
    }
  },
  "cells": [
    {
      "cell_type": "code",
      "execution_count": null,
      "metadata": {
        "id": "3DDLyHrANoYH"
      },
      "outputs": [],
      "source": [
        "import pandas as pd\n"
      ]
    },
    {
      "cell_type": "code",
      "source": [
        "# Definir datos de ejemplo para las estaciones y rutas\n",
        "estaciones = {\n",
        "    \"Estación A\": \"A\",\n",
        "    \"Estación B\": \"B\",\n",
        "    \"Estación C\": \"C\",\n",
        "    \"Estación D\": \"D\",\n",
        "    \"Estación E\": \"E\",\n",
        "}\n"
      ],
      "metadata": {
        "id": "g6-5Oe1IN30E"
      },
      "execution_count": null,
      "outputs": []
    },
    {
      "cell_type": "code",
      "source": [
        "rutas = [\n",
        "    (\"A\", \"B\", 10, 20000),\n",
        "    (\"A\", \"C\", 15, 3000),\n",
        "    (\"B\", \"C\", 5, 10000),\n",
        "    (\"B\", \"D\", 10, 20000),\n",
        "    (\"C\", \"D\", 20, 4000),\n",
        "    (\"C\", \"E\", 15, 3000),\n",
        "    (\"D\", \"E\", 5, 10000)\n",
        "]"
      ],
      "metadata": {
        "id": "tdtWaZ3fN85Z"
      },
      "execution_count": null,
      "outputs": []
    },
    {
      "cell_type": "code",
      "source": [
        "# Crear DataFrame para las rutas\n",
        "df_rutas = pd.DataFrame(rutas, columns=['Origen', 'Destino', 'Tiempo', 'Costo'])"
      ],
      "metadata": {
        "id": "k1iD6IDRONiK"
      },
      "execution_count": null,
      "outputs": []
    },
    {
      "cell_type": "code",
      "source": [
        "# Agregar nombres de estaciones\n",
        "df_rutas['Estación Origen'] = df_rutas['Origen'].map(estaciones)\n",
        "df_rutas['Estación Destino'] = df_rutas['Destino'].map(estaciones)"
      ],
      "metadata": {
        "id": "pr86Xw2sORKh"
      },
      "execution_count": null,
      "outputs": []
    },
    {
      "cell_type": "code",
      "source": [
        "# Reorganizar columnas\n",
        "df_rutas = df_rutas[['Estación Origen', 'Estación Destino', 'Tiempo', 'Costo', 'Origen', 'Destino']]\n"
      ],
      "metadata": {
        "id": "a2ZlHXarOUH5"
      },
      "execution_count": null,
      "outputs": []
    },
    {
      "cell_type": "code",
      "source": [
        "# Guardar el DataFrame como archivo CSV\n",
        "df_rutas.to_csv('datos_viajes.csv', index=False)"
      ],
      "metadata": {
        "id": "ldMZaSXrOdqp"
      },
      "execution_count": null,
      "outputs": []
    },
    {
      "cell_type": "code",
      "source": [
        "# Imprimir el DataFrame\n",
        "print(df_rutas)"
      ],
      "metadata": {
        "colab": {
          "base_uri": "https://localhost:8080/"
        },
        "id": "-p-Ijgu-Ogvx",
        "outputId": "44f7aaa9-a801-47a9-a161-da9b94db1057"
      },
      "execution_count": null,
      "outputs": [
        {
          "output_type": "stream",
          "name": "stdout",
          "text": [
            "  Estación Origen Estación Destino  Tiempo  Costo Origen Destino\n",
            "0             NaN              NaN      10  20000      A       B\n",
            "1             NaN              NaN      15   3000      A       C\n",
            "2             NaN              NaN       5  10000      B       C\n",
            "3             NaN              NaN      10  20000      B       D\n",
            "4             NaN              NaN      20   4000      C       D\n",
            "5             NaN              NaN      15   3000      C       E\n",
            "6             NaN              NaN       5  10000      D       E\n"
          ]
        }
      ]
    }
  ]
}